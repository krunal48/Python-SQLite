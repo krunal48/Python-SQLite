{
 "cells": [
  {
   "cell_type": "code",
   "execution_count": 1,
   "id": "abcada2a-2cf0-40dc-a584-4e09bd51fcff",
   "metadata": {},
   "outputs": [],
   "source": [
    "b = (5,6,8)"
   ]
  },
  {
   "cell_type": "code",
   "execution_count": 2,
   "id": "5a135c33-841a-40cd-8d39-8e48a8dae078",
   "metadata": {},
   "outputs": [
    {
     "name": "stdout",
     "output_type": "stream",
     "text": [
      "(5, 6, 8)\n"
     ]
    }
   ],
   "source": [
    "print(b)"
   ]
  },
  {
   "cell_type": "code",
   "execution_count": 4,
   "id": "03e9d628-a6c9-463d-b89a-997ddb17eb99",
   "metadata": {},
   "outputs": [
    {
     "data": {
      "text/plain": [
       "(5, 6, 8)"
      ]
     },
     "execution_count": 4,
     "metadata": {},
     "output_type": "execute_result"
    }
   ],
   "source": [
    "b"
   ]
  },
  {
   "cell_type": "code",
   "execution_count": 6,
   "id": "95b45347-a446-43f2-a0f8-3e0b21c81e4f",
   "metadata": {},
   "outputs": [],
   "source": [
    "dict = {\"a\":5,\"fruit\":\"mango\"}"
   ]
  },
  {
   "cell_type": "code",
   "execution_count": 7,
   "id": "f07174f6-e65b-480d-b512-7b2d79c41d33",
   "metadata": {},
   "outputs": [
    {
     "data": {
      "text/plain": [
       "{'a': 5, 'fruit': 'mango'}"
      ]
     },
     "execution_count": 7,
     "metadata": {},
     "output_type": "execute_result"
    }
   ],
   "source": [
    "dict"
   ]
  },
  {
   "cell_type": "code",
   "execution_count": 8,
   "id": "a2d5cc83-df1e-4f1f-aff1-b647f65d9de7",
   "metadata": {},
   "outputs": [
    {
     "data": {
      "text/plain": [
       "dict_keys(['a', 'fruit'])"
      ]
     },
     "execution_count": 8,
     "metadata": {},
     "output_type": "execute_result"
    }
   ],
   "source": [
    "dict.keys()"
   ]
  },
  {
   "cell_type": "markdown",
   "id": "07662e30-9577-405b-9410-a87fb7ab32f7",
   "metadata": {},
   "source": [
    "## write 5 number in list and sum"
   ]
  },
  {
   "cell_type": "code",
   "execution_count": 9,
   "id": "95168584-c151-4498-b0c0-4edccd7a0b73",
   "metadata": {},
   "outputs": [],
   "source": [
    "a = [4,2,6,8,5]"
   ]
  },
  {
   "cell_type": "code",
   "execution_count": 11,
   "id": "b96b1ce6-a2d7-462a-8c9c-dddf0f8c8c39",
   "metadata": {},
   "outputs": [
    {
     "data": {
      "text/plain": [
       "25"
      ]
     },
     "execution_count": 11,
     "metadata": {},
     "output_type": "execute_result"
    }
   ],
   "source": [
    "sum(a)"
   ]
  },
  {
   "cell_type": "code",
   "execution_count": 21,
   "id": "5ebeb5de-dad0-4bad-904d-0428c4fff376",
   "metadata": {},
   "outputs": [
    {
     "name": "stdout",
     "output_type": "stream",
     "text": [
      "25\n"
     ]
    }
   ],
   "source": [
    "c = sum(a)\n",
    "print(c)"
   ]
  },
  {
   "cell_type": "code",
   "execution_count": null,
   "id": "6f71400f-2b98-44c4-a8c9-e491bebb82d8",
   "metadata": {},
   "outputs": [],
   "source": []
  },
  {
   "cell_type": "markdown",
   "id": "930c5cac-4ac8-4c4d-807f-4575f49f5f8e",
   "metadata": {},
   "source": [
    "## create dictionary with student names and marks\n",
    "## print name and marks"
   ]
  },
  {
   "cell_type": "code",
   "execution_count": 12,
   "id": "50556949-3f83-4f8a-af94-caf3341c3dc7",
   "metadata": {},
   "outputs": [],
   "source": [
    "dict = {\"x\":45,\"y\":65,\"z\":76}"
   ]
  },
  {
   "cell_type": "code",
   "execution_count": 13,
   "id": "46778e2e-d605-4407-a021-28dbd351554d",
   "metadata": {},
   "outputs": [
    {
     "data": {
      "text/plain": [
       "dict_keys(['x', 'y', 'z'])"
      ]
     },
     "execution_count": 13,
     "metadata": {},
     "output_type": "execute_result"
    }
   ],
   "source": [
    "dict.keys()"
   ]
  },
  {
   "cell_type": "code",
   "execution_count": 14,
   "id": "b52d9fb5-931c-405f-ab4e-e4c683affdc5",
   "metadata": {},
   "outputs": [
    {
     "data": {
      "text/plain": [
       "dict_values([45, 65, 76])"
      ]
     },
     "execution_count": 14,
     "metadata": {},
     "output_type": "execute_result"
    }
   ],
   "source": [
    "dict.values()"
   ]
  },
  {
   "cell_type": "code",
   "execution_count": 15,
   "id": "9f6f5766-581e-41bb-976b-642416eaae4c",
   "metadata": {},
   "outputs": [
    {
     "data": {
      "text/plain": [
       "dict_items([('x', 45), ('y', 65), ('z', 76)])"
      ]
     },
     "execution_count": 15,
     "metadata": {},
     "output_type": "execute_result"
    }
   ],
   "source": [
    "dict.items()"
   ]
  },
  {
   "cell_type": "code",
   "execution_count": 17,
   "id": "9fc4d0ac-930a-4ff0-8e05-93c66a8adc13",
   "metadata": {},
   "outputs": [
    {
     "name": "stdout",
     "output_type": "stream",
     "text": [
      "x 45\n",
      "y 65\n",
      "z 76\n"
     ]
    }
   ],
   "source": [
    "for k,v in dict.items():\n",
    "    print(k,v)"
   ]
  },
  {
   "cell_type": "code",
   "execution_count": null,
   "id": "e6f7aa36-e050-46da-8399-8d0fbb5b2b88",
   "metadata": {},
   "outputs": [],
   "source": []
  },
  {
   "cell_type": "code",
   "execution_count": 22,
   "id": "a5395ed4-c160-497d-b975-88d03b970afa",
   "metadata": {},
   "outputs": [],
   "source": [
    "a = [[5,3,9],[2,76,46]]"
   ]
  },
  {
   "cell_type": "code",
   "execution_count": 28,
   "id": "940fa5a5-16ae-4690-bdf8-398effe75bfc",
   "metadata": {},
   "outputs": [
    {
     "ename": "NameError",
     "evalue": "name 'i' is not defined",
     "output_type": "error",
     "traceback": [
      "\u001b[31m---------------------------------------------------------------------------\u001b[39m",
      "\u001b[31mNameError\u001b[39m                                 Traceback (most recent call last)",
      "\u001b[36mCell\u001b[39m\u001b[36m \u001b[39m\u001b[32mIn[28]\u001b[39m\u001b[32m, line 1\u001b[39m\n\u001b[32m----> \u001b[39m\u001b[32m1\u001b[39m ans = [g ** \u001b[32m2\u001b[39m \u001b[38;5;28;01mfor\u001b[39;00m g \u001b[38;5;129;01min\u001b[39;00m \u001b[43mi\u001b[49m \u001b[38;5;28;01mfor\u001b[39;00m i \u001b[38;5;129;01min\u001b[39;00m a]\n",
      "\u001b[31mNameError\u001b[39m: name 'i' is not defined"
     ]
    }
   ],
   "source": [
    "ans = [g ** 2 for g in i for i in a]"
   ]
  },
  {
   "cell_type": "code",
   "execution_count": 34,
   "id": "1ae7e587-932d-4946-8a2d-9422e29fa0f9",
   "metadata": {},
   "outputs": [
    {
     "name": "stdout",
     "output_type": "stream",
     "text": [
      "[4, 5, 6]\n"
     ]
    }
   ],
   "source": [
    "a = [1,2,3,4,5,6]\n",
    "for i in [1,2,3]:\n",
    "    a.remove(i) \n",
    "print(a)"
   ]
  },
  {
   "cell_type": "code",
   "execution_count": null,
   "id": "892b8cae-f223-43da-9faf-74c62e4eac01",
   "metadata": {},
   "outputs": [],
   "source": []
  }
 ],
 "metadata": {
  "kernelspec": {
   "display_name": "Python 3 (ipykernel)",
   "language": "python",
   "name": "python3"
  },
  "language_info": {
   "codemirror_mode": {
    "name": "ipython",
    "version": 3
   },
   "file_extension": ".py",
   "mimetype": "text/x-python",
   "name": "python",
   "nbconvert_exporter": "python",
   "pygments_lexer": "ipython3",
   "version": "3.13.7"
  }
 },
 "nbformat": 4,
 "nbformat_minor": 5
}
