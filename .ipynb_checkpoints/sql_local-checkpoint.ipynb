{
 "cells": [
  {
   "cell_type": "code",
   "execution_count": 5,
   "id": "39ee3e2f-35d7-4c57-ad5d-cef73042315f",
   "metadata": {},
   "outputs": [],
   "source": [
    "import sqlite3"
   ]
  },
  {
   "cell_type": "code",
   "execution_count": 20,
   "id": "5df2e3cc-f00e-48bb-8d56-14598fed2482",
   "metadata": {},
   "outputs": [],
   "source": [
    "def init_db():\n",
    "    conn = sqlite3.connect(\":memory:\")  # in-memory DB (use \"mydb.db\" for file)\n",
    "    cursor = conn.cursor()\n",
    "\n",
    "    # Create tables\n",
    "    cursor.execute(\"\"\"\n",
    "    CREATE TABLE departments (\n",
    "        dept_id INTEGER PRIMARY KEY AUTOINCREMENT,\n",
    "        dept_name TEXT NOT NULL,\n",
    "        location TEXT\n",
    "    )\n",
    "    \"\"\")\n",
    "\n",
    "    cursor.execute(\"\"\"\n",
    "    CREATE TABLE employees (\n",
    "        emp_id INTEGER PRIMARY KEY AUTOINCREMENT,\n",
    "        name TEXT NOT NULL,\n",
    "        dept_id INTEGER,\n",
    "        salary REAL,\n",
    "        FOREIGN KEY (dept_id) REFERENCES departments(dept_id)\n",
    "    )\n",
    "    \"\"\")\n",
    "\n",
    "    # Insert sample data\n",
    "    departments = [\n",
    "        (\"HR\", \"New York\"),\n",
    "        (\"Engineering\", \"San Francisco\"),\n",
    "        (\"Marketing\", \"Chicago\"),\n",
    "        (\"Sales\", \"UK\")\n",
    "    ]\n",
    "    cursor.executemany(\"INSERT INTO departments (dept_name, location) VALUES (?, ?)\", departments)\n",
    "    employees = [\n",
    "        (\"Alice\", 1, 50000),\n",
    "        (\"Bob\", 2, 70000),\n",
    "        (\"Charlie\", 2, 80000),\n",
    "        (\"Diana\", 3, 60000),\n",
    "        (\"Eve\", 1, 55000),\n",
    "        (\"Test\", 7, 55000),\n",
    "        \n",
    "    ]\n",
    "    cursor.executemany(\"INSERT INTO employees (name, dept_id, salary) VALUES (?, ?, ?)\", employees)\n",
    "\n",
    "    conn.commit()\n",
    "    return conn\n",
    "\n"
   ]
  },
  {
   "cell_type": "code",
   "execution_count": 21,
   "id": "17e15f2b-d31d-4930-b29b-9b2df6e7fdd0",
   "metadata": {},
   "outputs": [],
   "source": [
    "def get_all_employees(conn):\n",
    "    return conn.execute(\"SELECT * FROM employees\").fetchall()\n",
    "\n",
    "def get_engineering_employees(conn):\n",
    "    return conn.execute(\"SELECT name, salary FROM employees WHERE dept_id = 2\").fetchall()\n",
    "\n",
    "def get_statistics(conn):\n",
    "    return conn.execute(\"SELECT COUNT(*), AVG(salary), MAX(salary) FROM employees\").fetchone()\n",
    "\n",
    "def add_employee(conn, name, dept_id, salary):\n",
    "    conn.execute(\"INSERT INTO employees (name, dept_id, salary) VALUES (?, ?, ?)\", (name, dept_id, salary))\n",
    "    conn.commit()\n",
    "\n",
    "def update_salary(conn, name, increment):\n",
    "    conn.execute(\"UPDATE employees SET salary = salary + ? WHERE name = ?\", (increment, name))\n",
    "    conn.commit()\n",
    "\n",
    "def delete_employee(conn, name):\n",
    "    conn.execute(\"DELETE FROM employees WHERE name = ?\", (name,))\n",
    "    conn.commit()"
   ]
  },
  {
   "cell_type": "code",
   "execution_count": 22,
   "id": "7cd30ea7-551d-420f-a826-ee4b59a717ca",
   "metadata": {},
   "outputs": [],
   "source": [
    "conn = init_db()\n"
   ]
  },
  {
   "cell_type": "code",
   "execution_count": 23,
   "id": "159da9df-70aa-4ed8-9784-26f39b1817ad",
   "metadata": {},
   "outputs": [
    {
     "data": {
      "text/plain": [
       "[(1, 'Alice', 1, 50000.0),\n",
       " (2, 'Bob', 2, 70000.0),\n",
       " (3, 'Charlie', 2, 80000.0),\n",
       " (4, 'Diana', 3, 60000.0),\n",
       " (5, 'Eve', 1, 55000.0),\n",
       " (6, 'Test', 7, 55000.0)]"
      ]
     },
     "execution_count": 23,
     "metadata": {},
     "output_type": "execute_result"
    }
   ],
   "source": [
    "get_all_employees(conn)"
   ]
  },
  {
   "cell_type": "code",
   "execution_count": 24,
   "id": "263c9e00-11b7-4f4b-b4f0-7511d3c3dd45",
   "metadata": {},
   "outputs": [],
   "source": [
    "def get_employees_with_departments(conn):\n",
    "    return conn.execute(\"\"\"\n",
    "        SELECT e.name, d.dept_name, d.location, e.salary\n",
    "        FROM employees e\n",
    "        INNER JOIN departments d ON e.dept_id = d.dept_id\n",
    "    \"\"\").fetchall()\n",
    "\n",
    "def get_all_employees_with_optional_dept(conn):\n",
    "    return conn.execute(\"\"\"\n",
    "        SELECT e.name, d.dept_name, d.location\n",
    "        FROM employees e\n",
    "        LEFT JOIN departments d ON e.dept_id = d.dept_id\n",
    "    \"\"\").fetchall()\n",
    "\n",
    "def get_all_departments_with_employees(conn):\n",
    "    # Simulated RIGHT JOIN using LEFT JOIN with swapped tables\n",
    "    return conn.execute(\"\"\"\n",
    "        SELECT d.dept_name, d.location, e.name\n",
    "        FROM departments d\n",
    "        LEFT JOIN employees e ON e.dept_id = d.dept_id\n",
    "    \"\"\").fetchall()\n",
    "\n",
    "def get_avg_salary_by_department(conn):\n",
    "    return conn.execute(\"\"\"\n",
    "        SELECT d.dept_name, AVG(e.salary) AS avg_salary\n",
    "        FROM employees e\n",
    "        INNER JOIN departments d ON e.dept_id = d.dept_id\n",
    "        GROUP BY d.dept_name\n",
    "    \"\"\").fetchall()\n",
    "\n",
    "\n",
    "def get_cross_join(conn):\n",
    "    return conn.execute(\"\"\"\n",
    "        SELECT e.name, d.dept_name\n",
    "        FROM employees e\n",
    "        CROSS JOIN departments d\n",
    "        LIMIT 10\n",
    "    \"\"\").fetchall()\n",
    "\n",
    "    \n"
   ]
  },
  {
   "cell_type": "code",
   "execution_count": 25,
   "id": "0b5b4c94-f68e-4f96-9868-abe65bb12406",
   "metadata": {},
   "outputs": [
    {
     "data": {
      "text/plain": [
       "[('Alice', 'HR', 'New York', 50000.0),\n",
       " ('Bob', 'Engineering', 'San Francisco', 70000.0),\n",
       " ('Charlie', 'Engineering', 'San Francisco', 80000.0),\n",
       " ('Diana', 'Marketing', 'Chicago', 60000.0),\n",
       " ('Eve', 'HR', 'New York', 55000.0)]"
      ]
     },
     "execution_count": 25,
     "metadata": {},
     "output_type": "execute_result"
    }
   ],
   "source": [
    "get_employees_with_departments(conn)"
   ]
  },
  {
   "cell_type": "code",
   "execution_count": 26,
   "id": "e1b19e50-99b2-48ec-9c91-f6699186d725",
   "metadata": {},
   "outputs": [
    {
     "data": {
      "text/plain": [
       "[('Alice', 'HR', 'New York'),\n",
       " ('Bob', 'Engineering', 'San Francisco'),\n",
       " ('Charlie', 'Engineering', 'San Francisco'),\n",
       " ('Diana', 'Marketing', 'Chicago'),\n",
       " ('Eve', 'HR', 'New York'),\n",
       " ('Test', None, None)]"
      ]
     },
     "execution_count": 26,
     "metadata": {},
     "output_type": "execute_result"
    }
   ],
   "source": [
    "get_all_employees_with_optional_dept(conn)"
   ]
  },
  {
   "cell_type": "code",
   "execution_count": 27,
   "id": "62bfe62e-d5ef-4505-a699-19ca5ebc5d34",
   "metadata": {},
   "outputs": [
    {
     "data": {
      "text/plain": [
       "[('HR', 'New York', 'Alice'),\n",
       " ('HR', 'New York', 'Eve'),\n",
       " ('Engineering', 'San Francisco', 'Bob'),\n",
       " ('Engineering', 'San Francisco', 'Charlie'),\n",
       " ('Marketing', 'Chicago', 'Diana'),\n",
       " ('Sales', 'UK', None)]"
      ]
     },
     "execution_count": 27,
     "metadata": {},
     "output_type": "execute_result"
    }
   ],
   "source": [
    "get_all_departments_with_employees(conn)"
   ]
  },
  {
   "cell_type": "code",
   "execution_count": 28,
   "id": "954e5bd3-643a-42c2-aa63-57071917f3b2",
   "metadata": {},
   "outputs": [
    {
     "data": {
      "text/plain": [
       "[('Engineering', 75000.0), ('HR', 52500.0), ('Marketing', 60000.0)]"
      ]
     },
     "execution_count": 28,
     "metadata": {},
     "output_type": "execute_result"
    }
   ],
   "source": [
    "get_avg_salary_by_department(conn)"
   ]
  },
  {
   "cell_type": "code",
   "execution_count": 29,
   "id": "9f13043b-7d40-4bcf-a4ba-14d232a18b66",
   "metadata": {},
   "outputs": [
    {
     "data": {
      "text/plain": [
       "[('Alice', 'HR'),\n",
       " ('Alice', 'Engineering'),\n",
       " ('Alice', 'Marketing'),\n",
       " ('Alice', 'Sales'),\n",
       " ('Bob', 'HR'),\n",
       " ('Bob', 'Engineering'),\n",
       " ('Bob', 'Marketing'),\n",
       " ('Bob', 'Sales'),\n",
       " ('Charlie', 'HR'),\n",
       " ('Charlie', 'Engineering')]"
      ]
     },
     "execution_count": 29,
     "metadata": {},
     "output_type": "execute_result"
    }
   ],
   "source": [
    "get_cross_join(conn)"
   ]
  },
  {
   "cell_type": "code",
   "execution_count": null,
   "id": "2c68b229-3776-49b4-a053-823791773ad4",
   "metadata": {},
   "outputs": [],
   "source": [
    "conn = init_db()\n",
    "\n",
    "print(\"\\n--- All Employees ---\")\n",
    "print(get_all_employees(conn))\n",
    "\n",
    "print(\"\\n--- Engineering Employees ---\")\n",
    "print(get_engineering_employees(conn))\n",
    "\n",
    "print(\"\\n--- Employee Statistics (count, avg, max) ---\")\n",
    "print(get_statistics(conn))\n",
    "\n",
    "print(\"\\n--- Add new employee (Frank, Marketing, 65000) ---\")\n",
    "add_employee(conn, \"Frank\", 3, 65000)\n",
    "print(get_all_employees(conn))\n",
    "\n",
    "print(\"\\n--- Update Alice's salary (+5000) ---\")\n",
    "update_salary(conn, \"Alice\", 5000)\n",
    "print(get_all_employees(conn))\n",
    "\n",
    "print(\"\\n--- Delete Eve ---\")\n",
    "delete_employee(conn, \"Eve\")\n",
    "print(get_all_employees(conn))\n",
    "\n",
    "print(\"\\n--- INNER JOIN Employees with Departments ---\")\n",
    "print(get_employees_with_departments(conn))\n",
    "\n",
    "print(\"\\n--- LEFT JOIN Employees (all employees, dept optional) ---\")\n",
    "print(get_all_employees_with_optional_dept(conn))\n",
    "\n",
    "print(\"\\n--- RIGHT JOIN Simulation (all departments, employees if any) ---\")\n",
    "print(get_all_departments_with_employees(conn))\n",
    "\n",
    "print(\"\\n--- Average Salary by Department ---\")\n",
    "print(get_avg_salary_by_department(conn))\n",
    "\n",
    "print(\"\\n--- CROSS JOIN (first 10 combos) ---\")\n",
    "print(get_cross_join(conn))\n",
    "\n",
    "conn.close()\n"
   ]
  }
 ],
 "metadata": {
  "kernelspec": {
   "display_name": "Python 3 (ipykernel)",
   "language": "python",
   "name": "python3"
  },
  "language_info": {
   "codemirror_mode": {
    "name": "ipython",
    "version": 3
   },
   "file_extension": ".py",
   "mimetype": "text/x-python",
   "name": "python",
   "nbconvert_exporter": "python",
   "pygments_lexer": "ipython3",
   "version": "3.10.11"
  }
 },
 "nbformat": 4,
 "nbformat_minor": 5
}
