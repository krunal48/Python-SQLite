{
 "cells": [
  {
   "cell_type": "code",
   "execution_count": 1,
   "id": "8f86f8b6-abbd-4325-94d2-1d5d89f75051",
   "metadata": {},
   "outputs": [],
   "source": [
    "import sqlite3"
   ]
  },
  {
   "cell_type": "code",
   "execution_count": 2,
   "id": "ae7a6db8-2e2b-46f5-a839-f92f831e9e49",
   "metadata": {},
   "outputs": [],
   "source": [
    "conn = sqlite3.connect(\"mysql.db\")"
   ]
  },
  {
   "cell_type": "markdown",
   "id": "45dfe869-3387-4f6b-bbae-b985565172f3",
   "metadata": {},
   "source": [
    "SQL sever:\n",
    "multiple Database\n",
    "each we can \n",
    "create multiple Table \n",
    "\n",
    "each table\n",
    "columns name \n",
    "row "
   ]
  },
  {
   "cell_type": "code",
   "execution_count": 4,
   "id": "47eec574-115e-445e-8b11-628452949b5d",
   "metadata": {},
   "outputs": [],
   "source": [
    "cusor = conn.cursor()"
   ]
  },
  {
   "cell_type": "code",
   "execution_count": 6,
   "id": "d84d3af0-b5bb-4d56-9997-6eb4dcffb246",
   "metadata": {},
   "outputs": [
    {
     "data": {
      "text/plain": [
       "<sqlite3.Cursor at 0x28bafbc35c0>"
      ]
     },
     "execution_count": 6,
     "metadata": {},
     "output_type": "execute_result"
    }
   ],
   "source": [
    "cusor.execute(\"\"\" \n",
    "\n",
    "    CREATE TABLE student(\n",
    "       st_id INTEGER, \n",
    "       st_name TEXT, \n",
    "       st_marks DECIMAL, \n",
    "       st_subjects TEXT\n",
    "    \n",
    "    )\n",
    "\"\"\")"
   ]
  },
  {
   "cell_type": "code",
   "execution_count": 11,
   "id": "66ed9812-ed2d-4a77-aa23-d102bb989033",
   "metadata": {},
   "outputs": [
    {
     "data": {
      "text/plain": [
       "<sqlite3.Cursor at 0x28bafbc35c0>"
      ]
     },
     "execution_count": 11,
     "metadata": {},
     "output_type": "execute_result"
    }
   ],
   "source": [
    "cusor.execute(\"select  name from sqlite_master where type='table';\")"
   ]
  },
  {
   "cell_type": "code",
   "execution_count": 12,
   "id": "9c0b6e3b-8267-49d0-8e17-bbf10776c4aa",
   "metadata": {},
   "outputs": [
    {
     "data": {
      "text/plain": [
       "[('student',)]"
      ]
     },
     "execution_count": 12,
     "metadata": {},
     "output_type": "execute_result"
    }
   ],
   "source": [
    "cusor.fetchall()"
   ]
  },
  {
   "cell_type": "code",
   "execution_count": 13,
   "id": "3b352e39-44f5-4435-b796-7a662f826e49",
   "metadata": {},
   "outputs": [],
   "source": [
    "stud_data = [(1, \"ali\", 45, \"chem\"), (3, \"ahmed\", 56, \"phy\"), (5, \"basit\", 78, \"math\")] "
   ]
  },
  {
   "cell_type": "code",
   "execution_count": 14,
   "id": "c667bfe7-71e2-4c30-b5cb-a2fcae48093e",
   "metadata": {},
   "outputs": [
    {
     "data": {
      "text/plain": [
       "[(1, 'ali', 45, 'chem'), (3, 'ahmed', 56, 'phy'), (5, 'basit', 78, 'math')]"
      ]
     },
     "execution_count": 14,
     "metadata": {},
     "output_type": "execute_result"
    }
   ],
   "source": [
    "stud_data"
   ]
  },
  {
   "cell_type": "code",
   "execution_count": 15,
   "id": "21527ef7-f776-4a8c-aa3d-eb2aaaa3d113",
   "metadata": {},
   "outputs": [
    {
     "data": {
      "text/plain": [
       "<sqlite3.Cursor at 0x28bafbc35c0>"
      ]
     },
     "execution_count": 15,
     "metadata": {},
     "output_type": "execute_result"
    }
   ],
   "source": [
    "cusor.executemany(\"INSERT INTO student (st_id,st_name, st_marks, st_subjects) VALUES (?, ? , ? ,?)\", stud_data)"
   ]
  },
  {
   "cell_type": "code",
   "execution_count": 32,
   "id": "e90ddbbc-2de5-4aeb-91eb-8857e8a6d620",
   "metadata": {},
   "outputs": [
    {
     "data": {
      "text/plain": [
       "[(1, 'irfan', 45, 'chem'), (3, 'ahmed', 56, 'phy'), (5, 'basit', 78, 'math')]"
      ]
     },
     "execution_count": 32,
     "metadata": {},
     "output_type": "execute_result"
    }
   ],
   "source": [
    "cusor.execute(\"select * from student\").fetchall()"
   ]
  },
  {
   "cell_type": "code",
   "execution_count": 30,
   "id": "d01c3c9e-13c1-4b98-9a27-c4b5a7265a9e",
   "metadata": {},
   "outputs": [
    {
     "data": {
      "text/plain": [
       "<sqlite3.Cursor at 0x28bafbc35c0>"
      ]
     },
     "execution_count": 30,
     "metadata": {},
     "output_type": "execute_result"
    }
   ],
   "source": [
    "cusor.execute(\"select * from student where st_marks > 53\")"
   ]
  },
  {
   "cell_type": "code",
   "execution_count": 31,
   "id": "b5de249c-979f-4718-beb5-e94012b05368",
   "metadata": {},
   "outputs": [
    {
     "data": {
      "text/plain": [
       "[(3, 'ahmed', 56, 'phy'), (5, 'basit', 78, 'math')]"
      ]
     },
     "execution_count": 31,
     "metadata": {},
     "output_type": "execute_result"
    }
   ],
   "source": [
    "cusor.fetchall()"
   ]
  },
  {
   "cell_type": "code",
   "execution_count": 22,
   "id": "46d442ae-2fd5-4b82-960a-1e7c5d977e1d",
   "metadata": {},
   "outputs": [
    {
     "data": {
      "text/plain": [
       "(3, 59.666666666666664)"
      ]
     },
     "execution_count": 22,
     "metadata": {},
     "output_type": "execute_result"
    }
   ],
   "source": [
    "cusor.execute(\"select COUNT(*), AVG(st_marks) from student\").fetchone()"
   ]
  },
  {
   "cell_type": "code",
   "execution_count": 28,
   "id": "c85f2369-fb1b-41a8-8fb8-3315ccaa8805",
   "metadata": {},
   "outputs": [
    {
     "data": {
      "text/plain": [
       "<sqlite3.Cursor at 0x28bafbc35c0>"
      ]
     },
     "execution_count": 28,
     "metadata": {},
     "output_type": "execute_result"
    }
   ],
   "source": [
    "cusor.execute(\"UPDATE student set st_name='irfan' where st_id=1\")"
   ]
  },
  {
   "cell_type": "code",
   "execution_count": 29,
   "id": "4c0a9c52-82ed-4f9c-8a19-8006a65a5988",
   "metadata": {},
   "outputs": [
    {
     "ename": "AttributeError",
     "evalue": "'sqlite3.Cursor' object has no attribute 'commit'",
     "output_type": "error",
     "traceback": [
      "\u001b[1;31m---------------------------------------------------------------------------\u001b[0m",
      "\u001b[1;31mAttributeError\u001b[0m                            Traceback (most recent call last)",
      "Cell \u001b[1;32mIn[29], line 1\u001b[0m\n\u001b[1;32m----> 1\u001b[0m \u001b[43mcusor\u001b[49m\u001b[38;5;241;43m.\u001b[39;49m\u001b[43mcommit\u001b[49m()\n",
      "\u001b[1;31mAttributeError\u001b[0m: 'sqlite3.Cursor' object has no attribute 'commit'"
     ]
    }
   ],
   "source": []
  },
  {
   "cell_type": "code",
   "execution_count": null,
   "id": "cf767827-da13-4564-876c-f9321685e379",
   "metadata": {},
   "outputs": [],
   "source": []
  }
 ],
 "metadata": {
  "kernelspec": {
   "display_name": "Python 3 (ipykernel)",
   "language": "python",
   "name": "python3"
  },
  "language_info": {
   "codemirror_mode": {
    "name": "ipython",
    "version": 3
   },
   "file_extension": ".py",
   "mimetype": "text/x-python",
   "name": "python",
   "nbconvert_exporter": "python",
   "pygments_lexer": "ipython3",
   "version": "3.10.11"
  }
 },
 "nbformat": 4,
 "nbformat_minor": 5
}
