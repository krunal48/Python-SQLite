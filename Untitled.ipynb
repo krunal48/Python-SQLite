{
 "cells": [
  {
   "cell_type": "code",
   "execution_count": 2,
   "id": "4f791fc7-3a47-4697-bc7e-793d8620b344",
   "metadata": {},
   "outputs": [],
   "source": [
    "import sqlite3"
   ]
  },
  {
   "cell_type": "code",
   "execution_count": 3,
   "id": "468981b7-c1a7-4029-ba3d-acaae051d53e",
   "metadata": {},
   "outputs": [],
   "source": [
    "conn = sqlite3.connect(\"mysql.db\")"
   ]
  },
  {
   "cell_type": "code",
   "execution_count": 4,
   "id": "cb15a784-52e0-463d-8400-73df78ae2f14",
   "metadata": {},
   "outputs": [],
   "source": [
    "cusor = conn.cursor()"
   ]
  },
  {
   "cell_type": "code",
   "execution_count": 5,
   "id": "6c16185f-eadd-4a15-9166-541d51704698",
   "metadata": {},
   "outputs": [
    {
     "data": {
      "text/plain": [
       "<sqlite3.Cursor at 0x24385a67740>"
      ]
     },
     "execution_count": 5,
     "metadata": {},
     "output_type": "execute_result"
    }
   ],
   "source": [
    "cusor.execute(\"\"\"\n",
    "\n",
    "    CREATE TABLE student(\n",
    "     st_id INTEGER,\n",
    "     st_name TEXT,\n",
    "     st_marks DECIMAL,\n",
    "     st_subjects TEXT\n",
    "\n",
    "    )\n",
    "\"\"\")"
   ]
  },
  {
   "cell_type": "code",
   "execution_count": 11,
   "id": "bb2a594e-ce9b-46d8-9f34-2cd7767949d8",
   "metadata": {},
   "outputs": [
    {
     "data": {
      "text/plain": [
       "<sqlite3.Cursor at 0x24385a67740>"
      ]
     },
     "execution_count": 11,
     "metadata": {},
     "output_type": "execute_result"
    }
   ],
   "source": [
    "cusor.execute(\"select   name from sqlite_master where type = 'table';\")"
   ]
  },
  {
   "cell_type": "code",
   "execution_count": 12,
   "id": "54b054a6-d480-496e-8ae4-5047c9b9d601",
   "metadata": {},
   "outputs": [
    {
     "data": {
      "text/plain": [
       "[('student',)]"
      ]
     },
     "execution_count": 12,
     "metadata": {},
     "output_type": "execute_result"
    }
   ],
   "source": [
    "cusor.fetchall()"
   ]
  },
  {
   "cell_type": "code",
   "execution_count": 9,
   "id": "9d1315ed-71de-4467-91fb-b3042c6319af",
   "metadata": {},
   "outputs": [
    {
     "ename": "NameError",
     "evalue": "name 'cursor' is not defined",
     "output_type": "error",
     "traceback": [
      "\u001b[31m---------------------------------------------------------------------------\u001b[39m",
      "\u001b[31mNameError\u001b[39m                                 Traceback (most recent call last)",
      "\u001b[36mCell\u001b[39m\u001b[36m \u001b[39m\u001b[32mIn[9]\u001b[39m\u001b[32m, line 1\u001b[39m\n\u001b[32m----> \u001b[39m\u001b[32m1\u001b[39m \u001b[43mcursor\u001b[49m.execute(\u001b[33m\"\u001b[39m\u001b[33mselect * from student\u001b[39m\u001b[33m\"\u001b[39m) \n\u001b[32m      2\u001b[39m row = cursor.fetchall()\n",
      "\u001b[31mNameError\u001b[39m: name 'cursor' is not defined"
     ]
    }
   ],
   "source": []
  },
  {
   "cell_type": "code",
   "execution_count": null,
   "id": "24f83d03-736b-4814-8449-9a032369e085",
   "metadata": {},
   "outputs": [],
   "source": []
  }
 ],
 "metadata": {
  "kernelspec": {
   "display_name": "Python 3 (ipykernel)",
   "language": "python",
   "name": "python3"
  },
  "language_info": {
   "codemirror_mode": {
    "name": "ipython",
    "version": 3
   },
   "file_extension": ".py",
   "mimetype": "text/x-python",
   "name": "python",
   "nbconvert_exporter": "python",
   "pygments_lexer": "ipython3",
   "version": "3.13.7"
  }
 },
 "nbformat": 4,
 "nbformat_minor": 5
}
