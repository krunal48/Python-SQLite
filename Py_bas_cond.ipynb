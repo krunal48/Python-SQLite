{
 "cells": [
  {
   "cell_type": "code",
   "execution_count": 1,
   "id": "0f08e0f4-7b48-487e-8f4c-df9ec47a27ed",
   "metadata": {},
   "outputs": [
    {
     "name": "stdout",
     "output_type": "stream",
     "text": [
      "Hello world\n"
     ]
    }
   ],
   "source": [
    "print(\"Hello world\")"
   ]
  },
  {
   "cell_type": "markdown",
   "id": "d1b20763-7ccf-4b80-98b0-edf6ec601b7c",
   "metadata": {},
   "source": [
    "## training"
   ]
  },
  {
   "cell_type": "markdown",
   "id": "97487734-d937-41c3-a01d-3a297e4ee8bd",
   "metadata": {},
   "source": [
    "# training2"
   ]
  },
  {
   "cell_type": "code",
   "execution_count": 15,
   "id": "9ecb91e6-39b3-48bc-b6e6-a0e931447387",
   "metadata": {},
   "outputs": [],
   "source": [
    "first_var = 8\n",
    "second_var = 3.5"
   ]
  },
  {
   "cell_type": "code",
   "execution_count": 17,
   "id": "4d0ce35e-56ab-4bf4-be8b-4eef17af7d92",
   "metadata": {},
   "outputs": [
    {
     "data": {
      "text/plain": [
       "4.5"
      ]
     },
     "execution_count": 17,
     "metadata": {},
     "output_type": "execute_result"
    }
   ],
   "source": [
    "first_var - second_var"
   ]
  },
  {
   "cell_type": "code",
   "execution_count": 18,
   "id": "a0450789-552b-48ff-abc2-2a86f66f9e75",
   "metadata": {},
   "outputs": [
    {
     "data": {
      "text/plain": [
       "11.5"
      ]
     },
     "execution_count": 18,
     "metadata": {},
     "output_type": "execute_result"
    }
   ],
   "source": [
    "first_var + second_var"
   ]
  },
  {
   "cell_type": "code",
   "execution_count": 19,
   "id": "f75f26d8-7bc4-4328-bb67-fa4d70a93445",
   "metadata": {},
   "outputs": [
    {
     "data": {
      "text/plain": [
       "28.0"
      ]
     },
     "execution_count": 19,
     "metadata": {},
     "output_type": "execute_result"
    }
   ],
   "source": [
    "first_var * second_var"
   ]
  },
  {
   "cell_type": "code",
   "execution_count": 20,
   "id": "9e2f6676-46af-4766-b43d-37a74ba67462",
   "metadata": {},
   "outputs": [
    {
     "data": {
      "text/plain": [
       "2.2857142857142856"
      ]
     },
     "execution_count": 20,
     "metadata": {},
     "output_type": "execute_result"
    }
   ],
   "source": [
    "first_var / second_var"
   ]
  },
  {
   "cell_type": "code",
   "execution_count": 21,
   "id": "f578f874-6fab-4452-8a64-5778f2490896",
   "metadata": {},
   "outputs": [
    {
     "data": {
      "text/plain": [
       "1448.1546878700494"
      ]
     },
     "execution_count": 21,
     "metadata": {},
     "output_type": "execute_result"
    }
   ],
   "source": [
    "first_var ** second_var"
   ]
  },
  {
   "cell_type": "code",
   "execution_count": 22,
   "id": "945e3f1a-86df-4723-b9f7-7bf99b98c20d",
   "metadata": {},
   "outputs": [
    {
     "data": {
      "text/plain": [
       "True"
      ]
     },
     "execution_count": 22,
     "metadata": {},
     "output_type": "execute_result"
    }
   ],
   "source": [
    "first_var > second_var"
   ]
  },
  {
   "cell_type": "code",
   "execution_count": 23,
   "id": "8186c8dc-6680-4b32-9d09-f8e881bc565f",
   "metadata": {},
   "outputs": [
    {
     "data": {
      "text/plain": [
       "False"
      ]
     },
     "execution_count": 23,
     "metadata": {},
     "output_type": "execute_result"
    }
   ],
   "source": [
    "first_var < second_var"
   ]
  },
  {
   "cell_type": "code",
   "execution_count": 24,
   "id": "2032f48e-db6d-4949-9d20-c322ed229771",
   "metadata": {},
   "outputs": [
    {
     "data": {
      "text/plain": [
       "False"
      ]
     },
     "execution_count": 24,
     "metadata": {},
     "output_type": "execute_result"
    }
   ],
   "source": [
    "first_var == second_var"
   ]
  },
  {
   "cell_type": "code",
   "execution_count": 25,
   "id": "4c31c96e-121c-4706-90e3-c2f0adfc09e9",
   "metadata": {},
   "outputs": [
    {
     "name": "stdin",
     "output_type": "stream",
     "text": [
      "Enter your name jkrunal\n"
     ]
    }
   ],
   "source": [
    "name = input(\"Enter your name\")"
   ]
  },
  {
   "cell_type": "code",
   "execution_count": 26,
   "id": "f739f2b3-32d8-4d50-b472-5f7bde109bce",
   "metadata": {},
   "outputs": [
    {
     "data": {
      "text/plain": [
       "'jkrunal'"
      ]
     },
     "execution_count": 26,
     "metadata": {},
     "output_type": "execute_result"
    }
   ],
   "source": [
    "name"
   ]
  },
  {
   "cell_type": "code",
   "execution_count": 27,
   "id": "cd9d35ed-ec87-4ff7-a837-c454325314d2",
   "metadata": {},
   "outputs": [
    {
     "name": "stdin",
     "output_type": "stream",
     "text": [
      "enter number:  30\n"
     ]
    },
    {
     "data": {
      "text/plain": [
       "'30'"
      ]
     },
     "execution_count": 27,
     "metadata": {},
     "output_type": "execute_result"
    }
   ],
   "source": [
    "input(\"enter number: \")"
   ]
  },
  {
   "cell_type": "code",
   "execution_count": 28,
   "id": "48b24226-c395-4ee0-ab54-d72d17048d5f",
   "metadata": {},
   "outputs": [
    {
     "name": "stdin",
     "output_type": "stream",
     "text": [
      "enter number 43\n"
     ]
    }
   ],
   "source": [
    "a = input(\"enter number\")"
   ]
  },
  {
   "cell_type": "code",
   "execution_count": 29,
   "id": "5f4791cf-5399-4f76-9ced-a2bc0aa58d55",
   "metadata": {},
   "outputs": [
    {
     "data": {
      "text/plain": [
       "str"
      ]
     },
     "execution_count": 29,
     "metadata": {},
     "output_type": "execute_result"
    }
   ],
   "source": [
    "type(a)"
   ]
  },
  {
   "cell_type": "code",
   "execution_count": 30,
   "id": "4c41cb51-5053-4a5b-ada9-ec9f993d6019",
   "metadata": {},
   "outputs": [],
   "source": [
    "b = int(a)"
   ]
  },
  {
   "cell_type": "code",
   "execution_count": 31,
   "id": "0554630d-aec6-468e-a5bb-8d03ecde33df",
   "metadata": {},
   "outputs": [
    {
     "data": {
      "text/plain": [
       "43"
      ]
     },
     "execution_count": 31,
     "metadata": {},
     "output_type": "execute_result"
    }
   ],
   "source": [
    "b"
   ]
  },
  {
   "cell_type": "code",
   "execution_count": 32,
   "id": "ea0ff88c-8310-4466-80fc-bfa1b1dd05a6",
   "metadata": {},
   "outputs": [
    {
     "data": {
      "text/plain": [
       "int"
      ]
     },
     "execution_count": 32,
     "metadata": {},
     "output_type": "execute_result"
    }
   ],
   "source": [
    "type(b)"
   ]
  },
  {
   "cell_type": "code",
   "execution_count": 33,
   "id": "f9ed659d-da3a-49ec-a67e-27bf1ef65e21",
   "metadata": {},
   "outputs": [
    {
     "name": "stdin",
     "output_type": "stream",
     "text": [
      "enter number 5.3\n"
     ]
    }
   ],
   "source": [
    "c = input(\"enter number\")"
   ]
  },
  {
   "cell_type": "code",
   "execution_count": 34,
   "id": "9a99de1a-1f81-45ee-ae3c-a7921239a8cd",
   "metadata": {},
   "outputs": [],
   "source": [
    "d = float(c)"
   ]
  },
  {
   "cell_type": "code",
   "execution_count": 35,
   "id": "5a6190ef-84c6-457d-bcd1-b361096fc051",
   "metadata": {},
   "outputs": [
    {
     "data": {
      "text/plain": [
       "5.3"
      ]
     },
     "execution_count": 35,
     "metadata": {},
     "output_type": "execute_result"
    }
   ],
   "source": [
    "d"
   ]
  },
  {
   "cell_type": "code",
   "execution_count": 36,
   "id": "e6542d55-32fd-42dc-9bb7-3fc0e351b3fc",
   "metadata": {},
   "outputs": [
    {
     "data": {
      "text/plain": [
       "float"
      ]
     },
     "execution_count": 36,
     "metadata": {},
     "output_type": "execute_result"
    }
   ],
   "source": [
    "type(d)\n"
   ]
  },
  {
   "cell_type": "code",
   "execution_count": 38,
   "id": "3a25e0d9-a08b-4087-8070-dae714ea8fdf",
   "metadata": {},
   "outputs": [],
   "source": [
    "a = 6\n",
    "b = 8"
   ]
  },
  {
   "cell_type": "code",
   "execution_count": 39,
   "id": "6e298b2a-8434-4859-be86-cd3df6521f41",
   "metadata": {},
   "outputs": [
    {
     "name": "stdout",
     "output_type": "stream",
     "text": [
      "b is bigger\n"
     ]
    }
   ],
   "source": [
    "if a>b:\n",
    "    print(\"a is bigger\")\n",
    "else:\n",
    "    print(\"b is bigger\")"
   ]
  },
  {
   "cell_type": "code",
   "execution_count": 45,
   "id": "5bab3558-a466-4205-9c7b-c5112e992e16",
   "metadata": {},
   "outputs": [
    {
     "name": "stdin",
     "output_type": "stream",
     "text": [
      "Enter first number:  6\n",
      "Enter second number:  3\n",
      "Enter your operation name - add/sub/mul/div div\n"
     ]
    },
    {
     "name": "stdout",
     "output_type": "stream",
     "text": [
      "sub of x/y is 2.0\n"
     ]
    }
   ],
   "source": [
    "x = float(input(\"Enter first number: \"))\n",
    "y = float(input(\"Enter second number: \"))\n",
    "\n",
    "z = input(\"Enter your operation name - add/sub/mul/div\")\n",
    "if(z == \"add\"):\n",
    "    print(f\"addition of x+y is {x+y}\")\n",
    "elif(z == \"sub\"):\n",
    "    print(f\"sub of x-y is {x-y}\")\n",
    "elif(z == \"mul\"):\n",
    "    print(f\"sub of x*y is {x*y}\")\n",
    "elif(z == \"div\"):\n",
    "    print(f\"sub of x/y is {x/y}\")\n",
    "else:\n",
    "    print(\"enter valid operator\")"
   ]
  },
  {
   "cell_type": "code",
   "execution_count": 46,
   "id": "562b4eac-f6ca-4b2f-a208-ee52f61f9f10",
   "metadata": {},
   "outputs": [
    {
     "data": {
      "text/plain": [
       "range(0, 5)"
      ]
     },
     "execution_count": 46,
     "metadata": {},
     "output_type": "execute_result"
    }
   ],
   "source": [
    "range(5)"
   ]
  },
  {
   "cell_type": "code",
   "execution_count": 50,
   "id": "aec482ad-e818-4fe2-afa8-ce4bc2ab66d0",
   "metadata": {},
   "outputs": [
    {
     "name": "stdout",
     "output_type": "stream",
     "text": [
      "1\n",
      "3\n"
     ]
    }
   ],
   "source": [
    "for i in range(1,5,2):\n",
    "    print(i)"
   ]
  },
  {
   "cell_type": "code",
   "execution_count": 69,
   "id": "733a35c1-55b8-4274-844a-f562caada799",
   "metadata": {},
   "outputs": [
    {
     "name": "stdin",
     "output_type": "stream",
     "text": [
      "do you want to calculate: yes\n",
      "Enter first number:  5\n",
      "Enter second number:  6\n",
      "Enter your operation from add/sub/mul/div:  add\n"
     ]
    },
    {
     "name": "stdout",
     "output_type": "stream",
     "text": [
      "addition of x+y is 11.0\n"
     ]
    },
    {
     "name": "stdin",
     "output_type": "stream",
     "text": [
      "do you want to calculate again: yes\n",
      "Enter first number:  6\n",
      "Enter second number:  9\n",
      "Enter your operation from add/sub/mul/div:  mul\n"
     ]
    },
    {
     "name": "stdout",
     "output_type": "stream",
     "text": [
      "sub of x*y is 54.0\n"
     ]
    },
    {
     "name": "stdin",
     "output_type": "stream",
     "text": [
      "do you want to calculate again: no\n"
     ]
    },
    {
     "name": "stdout",
     "output_type": "stream",
     "text": [
      "stopped\n"
     ]
    }
   ],
   "source": [
    "b = input(\"do you want to calculate:\")\n",
    "    \n",
    "while(b == \"yes\"):\n",
    "    x = float(input(\"Enter first number: \"))\n",
    "    y = float(input(\"Enter second number: \"))\n",
    "    z = input(\"Enter your operation from add/sub/mul/div: \")\n",
    "            \n",
    "    if(z == \"add\"):\n",
    "        print(f\"addition of x+y is {x+y}\")\n",
    "    elif(z == \"sub\"):\n",
    "        print(f\"sub of x-y is {x-y}\")\n",
    "    elif(z == \"mul\"):\n",
    "        print(f\"sub of x*y is {x*y}\")\n",
    "    elif(z == \"div\"):\n",
    "        print(f\"sub of x/y is {x/y}\")\n",
    "    else:\n",
    "        print(\"enter valid operator\")\n",
    "    b = input(\"do you want to calculate again:\")\n",
    "    if(b != \"yes\"):\n",
    "        print(\"stopped\")"
   ]
  },
  {
   "cell_type": "code",
   "execution_count": 83,
   "id": "8d0ca220-b06a-41d0-aa67-907cb6e783b0",
   "metadata": {},
   "outputs": [
    {
     "name": "stdout",
     "output_type": "stream",
     "text": [
      "Hello krunal\n"
     ]
    }
   ],
   "source": [
    "def ask(k):\n",
    "    d = \"Hello \" + k\n",
    "    return d\n",
    "\n",
    "a = ask(\"krunal\")\n",
    "print(a)"
   ]
  },
  {
   "cell_type": "markdown",
   "id": "d23250c5-f315-4064-ae72-24682ca2949a",
   "metadata": {},
   "source": [
    "## 27th Aug 2025\n",
    "## Python Basics loops + functions\n",
    "## Assignemnt:  Write a Python program that first asks the user to choose Mathematical or Logical operations. If Math, perform Add/Subtract/Multiply/Divide on two numbers; if Logical, perform AND/OR/NOT on boolean inputs. Use if-else, while loop, and functions to solve it."
   ]
  },
  {
   "cell_type": "code",
   "execution_count": 101,
   "id": "65d4ccca-ad4c-4bd5-8d1b-e7f5c3da0c11",
   "metadata": {},
   "outputs": [
    {
     "name": "stdin",
     "output_type": "stream",
     "text": [
      "Do you want to perform any operation:  t5\n"
     ]
    },
    {
     "name": "stdout",
     "output_type": "stream",
     "text": [
      "Thank you!\n"
     ]
    }
   ],
   "source": [
    "def mathop(j,k):\n",
    "    b = input(\"Which mathematical op(add/sub/mul/div): \")\n",
    "    if(b == \"add\"):\n",
    "        d = print(f\"addition of x+y is {x+y}\")\n",
    "    elif(b == \"sub\"):\n",
    "        d = print(f\"subtraction of x-y is {x-y}\")\n",
    "    elif(b == \"mul\"):\n",
    "        d = print(f\"Multiplication of x*y is {x*y}\")\n",
    "    elif(b == \"div\"):\n",
    "        d = print(f\"Division of x/y is {x/y}\")\n",
    "    else:\n",
    "        d = print(\"enter valid operator\")\n",
    "    return d\n",
    "\n",
    "def log_op(j,k):\n",
    "    b = input(\"Which logical op(comparison/equality): \")\n",
    "    if(b == \"comparison\"):\n",
    "        if(j>k):\n",
    "            d = print(f\"{j} is greater than {k}\")\n",
    "        elif(k>j):\n",
    "            d = print(f\"{k} is greater than {j}\")\n",
    "        else:\n",
    "            d = print(\"try again/ numbers are same\")\n",
    "    elif(b == \"equality\"):\n",
    "        if(j==k):\n",
    "            d = print(f\"{j} and {k} are equal\")\n",
    "        elif(j!=k):\n",
    "            d = print(f\"{j} and {k} are not equal\")\n",
    "        else:\n",
    "            d = print(\"try again\")\n",
    "    else:\n",
    "        print(\"Select valid operation\")\n",
    "    return d\n",
    "\n",
    "ask = input(\"Do you want to perform any operation: \")\n",
    "\n",
    "while(ask == \"yes\"):\n",
    "    j = float(input(\"Enter first number: \"))\n",
    "    k = float(input(\"Enter second number: \"))\n",
    "    a = input(\"Which operation you want to perform (math / logic): \")\n",
    "    if a == \"math\":\n",
    "        mathop(j,k)\n",
    "    elif a == \"logic\":\n",
    "        log_op(j,k)\n",
    "    else:\n",
    "        print(\"Enter valid operation\")\n",
    "    again_ask = input(\"Do you still want more operation: \")\n",
    "    if(again_ask != \"yes\"):\n",
    "        print(\"Thank you!\")\n",
    "        break\n",
    "else:\n",
    "    print(\"Thank you!\")"
   ]
  },
  {
   "cell_type": "markdown",
   "id": "ed543681-495a-4eb5-9656-7f2153a4d636",
   "metadata": {},
   "source": [
    "## 2nd method of assignment"
   ]
  },
  {
   "cell_type": "code",
   "execution_count": 139,
   "id": "a3ab234a-851a-4cbe-b0b6-9917fbbc83fc",
   "metadata": {},
   "outputs": [
    {
     "name": "stdin",
     "output_type": "stream",
     "text": [
      "Do you want to perform any operation:  yes\n",
      "Which operation you want to perform (math / logic):  logic\n",
      "Enter first boolean number:  1\n",
      "Enter second boolean number:  0\n",
      "Which logical op(AND/OR/NOT):  or\n"
     ]
    },
    {
     "name": "stdout",
     "output_type": "stream",
     "text": [
      "1\n"
     ]
    },
    {
     "name": "stdin",
     "output_type": "stream",
     "text": [
      "Do you still want more operation:  yes\n",
      "Which operation you want to perform (math / logic):  math\n",
      "Enter first number:  5\n",
      "Enter second number:  7\n",
      "Which mathematical op(add/sub/mul/div):  add\n"
     ]
    },
    {
     "name": "stdout",
     "output_type": "stream",
     "text": [
      "12.0\n"
     ]
    },
    {
     "name": "stdin",
     "output_type": "stream",
     "text": [
      "Do you still want more operation:  no\n"
     ]
    },
    {
     "name": "stdout",
     "output_type": "stream",
     "text": [
      "Thank you!\n"
     ]
    }
   ],
   "source": [
    "def math_op():\n",
    "    j = float(input(\"Enter first number: \"))\n",
    "    k = float(input(\"Enter second number: \"))\n",
    "    b = input(\"Which mathematical op(add/sub/mul/div): \")\n",
    "    if(b == \"add\"):\n",
    "        print(j + k)\n",
    "    elif(b == \"sub\"):\n",
    "        print(j-k)\n",
    "    elif(b == \"mul\"):\n",
    "        print(j*k)\n",
    "    elif(b == \"div\"):\n",
    "        print(j/y)\n",
    "    else:\n",
    "        print(\"enter valid operator\")\n",
    "\n",
    "def log_op():\n",
    "    j = int(input(\"Enter first boolean number: \"))\n",
    "    k = int(input(\"Enter second boolean number: \"))\n",
    "    b = input(\"Which logical op(AND/OR/NOT): \")\n",
    "    if(b.upper() == \"AND\"):\n",
    "        print(j and k)\n",
    "    elif(b.upper() == \"OR\"):\n",
    "        print(j or k)\n",
    "    elif(b.upper() == \"NOT\"):\n",
    "        print(not k)\n",
    "    else:\n",
    "        print(\"Select valid operation\")\n",
    "\n",
    "ask = input(\"Do you want to perform any operation: \")\n",
    "\n",
    "while(ask.lower() == \"yes\"):\n",
    "    a = input(\"Which operation you want to perform (math / logic): \")\n",
    "    if a == \"math\":\n",
    "        math_op()\n",
    "    elif a == \"logic\":\n",
    "        log_op()\n",
    "    else:\n",
    "        print(\"Enter valid operation\")\n",
    "    again_ask = input(\"Do you still want more operation: \")\n",
    "    if(again_ask.lower() != \"yes\"):\n",
    "        print(\"Thank you!\")\n",
    "        break\n",
    "else:\n",
    "    print(\"Thank you!\")"
   ]
  },
  {
   "cell_type": "code",
   "execution_count": 143,
   "id": "9a6f8927-3f90-4bd3-8f62-daa90e0643f0",
   "metadata": {},
   "outputs": [
    {
     "name": "stdin",
     "output_type": "stream",
     "text": [
      "Which operation you want to perform (math / logic):  logic\n",
      "Which logical op(AND/OR/NOT):  and\n",
      "Enter first boolean number:  1\n",
      "Enter second boolean number:  0\n"
     ]
    },
    {
     "name": "stdout",
     "output_type": "stream",
     "text": [
      "0\n"
     ]
    },
    {
     "name": "stdin",
     "output_type": "stream",
     "text": [
      "Do you still want more operation:  yes\n",
      "Which operation you want to perform (math / logic):  logic\n",
      "Which logical op(AND/OR/NOT):  1\n",
      "Enter first boolean number:  0\n",
      "Enter second boolean number:  1\n"
     ]
    },
    {
     "name": "stdout",
     "output_type": "stream",
     "text": [
      "Select valid operation\n"
     ]
    },
    {
     "name": "stdin",
     "output_type": "stream",
     "text": [
      "Do you still want more operation:  yes\n",
      "Which operation you want to perform (math / logic):  logic\n",
      "Which logical op(AND/OR/NOT):  or\n",
      "Enter first boolean number:  1\n",
      "Enter second boolean number:  0\n"
     ]
    },
    {
     "name": "stdout",
     "output_type": "stream",
     "text": [
      "1\n"
     ]
    },
    {
     "name": "stdin",
     "output_type": "stream",
     "text": [
      "Do you still want more operation:  no\n"
     ]
    },
    {
     "name": "stdout",
     "output_type": "stream",
     "text": [
      "Thank you!\n"
     ]
    }
   ],
   "source": [
    "def operation():\n",
    "        a = input(\"Which operation you want to perform (math / logic): \")\n",
    "        if a == \"math\":\n",
    "            math_op()\n",
    "        elif a == \"logic\":\n",
    "            log_op()\n",
    "        else:\n",
    "            print(\"Enter valid operation\")\n",
    "\n",
    "def math_op():\n",
    "    b = input(\"Which mathematical op(add/sub/mul/div): \")\n",
    "    j = float(input(\"Enter first number: \"))\n",
    "    k = float(input(\"Enter second number: \"))\n",
    "    if(b == \"add\"):\n",
    "        print(j+k)\n",
    "    elif(b == \"sub\"):\n",
    "        print(j-k)\n",
    "    elif(b == \"mul\"):\n",
    "        print(j*k)\n",
    "    elif(b == \"div\"):\n",
    "        print(j/k)\n",
    "    else:\n",
    "        print(\"enter valid operator\")\n",
    "\n",
    "def log_op():\n",
    "    b = input(\"Which logical op(AND/OR/NOT): \")\n",
    "    j = int(input(\"Enter first boolean number: \"))\n",
    "    k = int(input(\"Enter second boolean number: \"))\n",
    "    if(b.lower() == \"and\"):\n",
    "        print(j and k)\n",
    "    elif(b.lower() == \"or\"):\n",
    "        print(j or k)\n",
    "    elif(b.lower() == \"not\"):\n",
    "        d = (not k)\n",
    "    else:\n",
    "        print(\"Select valid operation\")\n",
    "\n",
    "while True:\n",
    "    operation()\n",
    "    again_ask = input(\"Do you still want more operation: \")\n",
    "    if(again_ask != \"yes\"):\n",
    "        print(\"Thank you!\")\n",
    "        break"
   ]
  },
  {
   "cell_type": "code",
   "execution_count": null,
   "id": "17bb78e1-c898-49be-9aaa-007415c52cdb",
   "metadata": {},
   "outputs": [],
   "source": []
  },
  {
   "cell_type": "code",
   "execution_count": null,
   "id": "45269c68-10fb-479c-946d-cd3dc18644da",
   "metadata": {},
   "outputs": [],
   "source": []
  }
 ],
 "metadata": {
  "kernelspec": {
   "display_name": "Python 3 (ipykernel)",
   "language": "python",
   "name": "python3"
  },
  "language_info": {
   "codemirror_mode": {
    "name": "ipython",
    "version": 3
   },
   "file_extension": ".py",
   "mimetype": "text/x-python",
   "name": "python",
   "nbconvert_exporter": "python",
   "pygments_lexer": "ipython3",
   "version": "3.13.7"
  }
 },
 "nbformat": 4,
 "nbformat_minor": 5
}
