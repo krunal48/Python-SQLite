{
 "cells": [
  {
   "cell_type": "code",
   "execution_count": null,
   "id": "8298621e-518b-4845-b689-c109f2032a32",
   "metadata": {},
   "outputs": [],
   "source": [
    "import sqlite3"
   ]
  },
  {
   "cell_type": "markdown",
   "id": "484a9523-8bc8-4360-a324-eb7a2e1c73fc",
   "metadata": {},
   "source": [
    "# Creation of Database / Tables / Inserting Values"
   ]
  },
  {
   "cell_type": "code",
   "execution_count": 5,
   "id": "4e57f03b-983f-4be3-b85e-44b43161cf4e",
   "metadata": {},
   "outputs": [],
   "source": [
    "conn = sqlite3.connect(\"assignment.db\") # represent connection to the on disk database"
   ]
  },
  {
   "cell_type": "code",
   "execution_count": 6,
   "id": "01a1f9eb-5883-4c1e-a316-427d118924e6",
   "metadata": {},
   "outputs": [],
   "source": [
    "cs = conn.cursor()"
   ]
  },
  {
   "cell_type": "code",
   "execution_count": 4,
   "id": "7720c912-56f6-44f6-b674-24d32a4f3720",
   "metadata": {},
   "outputs": [
    {
     "ename": "OperationalError",
     "evalue": "database is locked",
     "output_type": "error",
     "traceback": [
      "\u001b[31m---------------------------------------------------------------------------\u001b[39m",
      "\u001b[31mOperationalError\u001b[39m                          Traceback (most recent call last)",
      "\u001b[36mCell\u001b[39m\u001b[36m \u001b[39m\u001b[32mIn[4]\u001b[39m\u001b[32m, line 1\u001b[39m\n\u001b[32m----> \u001b[39m\u001b[32m1\u001b[39m \u001b[43mcs\u001b[49m\u001b[43m.\u001b[49m\u001b[43mexecute\u001b[49m\u001b[43m(\u001b[49m\u001b[33;43m\"\u001b[39;49m\u001b[33;43mDROP TABLE Departments;\u001b[39;49m\u001b[33;43m\"\u001b[39;49m\u001b[43m)\u001b[49m\n",
      "\u001b[31mOperationalError\u001b[39m: database is locked"
     ]
    }
   ],
   "source": [
    "cs.execute(\"DROP TABLE IF NOT EXISTS Departments;\")"
   ]
  },
  {
   "cell_type": "code",
   "execution_count": null,
   "id": "db4afcfb-2445-4a0b-b4cb-50d99b898ca7",
   "metadata": {},
   "outputs": [],
   "source": [
    "conn.commit()\n",
    "conn.close()"
   ]
  },
  {
   "cell_type": "code",
   "execution_count": null,
   "id": "689edffd-2f6b-4ceb-b76f-a54f6caad2d5",
   "metadata": {},
   "outputs": [],
   "source": [
    "cs.execute(\"DROP TABLE IF NOT EXISTS Students;\")"
   ]
  },
  {
   "cell_type": "code",
   "execution_count": null,
   "id": "13a8df26-70bd-424e-9261-73816c568206",
   "metadata": {},
   "outputs": [],
   "source": [
    "cs.execute(\"DROP TABLE IF NOT EXISTS Subjects;\")"
   ]
  },
  {
   "cell_type": "code",
   "execution_count": null,
   "id": "1bbc835d-0fdb-4b9e-beda-993ae900f9bd",
   "metadata": {},
   "outputs": [],
   "source": [
    "cs.execute(\"DROP TABLE IF NOT EXISTS marks;\")"
   ]
  },
  {
   "cell_type": "code",
   "execution_count": 11,
   "id": "4c611ec8-a7e7-4659-bd4e-500eb92765cd",
   "metadata": {},
   "outputs": [
    {
     "data": {
      "text/plain": [
       "<sqlite3.Cursor at 0x2221a437840>"
      ]
     },
     "execution_count": 11,
     "metadata": {},
     "output_type": "execute_result"
    }
   ],
   "source": [
    "cs.execute(\"\"\"\n",
    "    CREATE TABLE IF NOT EXISTS Departments (\n",
    "    dept_id INTEGER PRIMARY KEY AUTOINCREMENT, \n",
    "    dept_name TEXT, \n",
    "    hod_name TEXT\n",
    "    )\n",
    "\"\"\")"
   ]
  },
  {
   "cell_type": "code",
   "execution_count": 12,
   "id": "e8078af4-184b-4761-8784-2ee68bae3203",
   "metadata": {},
   "outputs": [
    {
     "data": {
      "text/plain": [
       "<sqlite3.Cursor at 0x2221a437840>"
      ]
     },
     "execution_count": 12,
     "metadata": {},
     "output_type": "execute_result"
    }
   ],
   "source": [
    "cs.execute(\"\"\"\n",
    "    CREATE TABLE IF NOT EXISTS  Students (\n",
    "    student_id INTEGER PRIMARY KEY AUTOINCREMENT, \n",
    "    stud_name TEXT, \n",
    "    stclass TEXT, \n",
    "    dept_id INTEGER,\n",
    "    FOREIGN KEY (dept_id) REFERENCES Departments (dept_id)\n",
    "    )\n",
    "\"\"\")"
   ]
  },
  {
   "cell_type": "code",
   "execution_count": null,
   "id": "cd3b0739-c197-4231-875d-9879983b9ece",
   "metadata": {},
   "outputs": [],
   "source": [
    "cs.execute(\"\"\"\n",
    "    CREATE TABLE IF NOT EXISTS Subjects (\n",
    "    subject_id INTEGER PRIMARY KEY AUTOINCREMENT, \n",
    "    subject_name TEXT, \n",
    "    dept_id INTEGER,\n",
    "    FOREIGN KEY (dept_id) REFERENCES Departments (dept_id)\n",
    "    )\n",
    "\"\"\")"
   ]
  },
  {
   "cell_type": "code",
   "execution_count": 13,
   "id": "632db934-cf9f-45c4-986f-47643b35db8d",
   "metadata": {},
   "outputs": [
    {
     "data": {
      "text/plain": [
       "<sqlite3.Cursor at 0x2221a437840>"
      ]
     },
     "execution_count": 13,
     "metadata": {},
     "output_type": "execute_result"
    }
   ],
   "source": [
    "cs.execute(\"\"\"\n",
    "    CREATE TABLE IF NOT EXISTS Marks (\n",
    "    mark_id INTEGER PRIMARY KEY AUTOINCREMENT, \n",
    "    student_id INTEGER, \n",
    "    subject_id INTEGER, \n",
    "    marks REAL,\n",
    "    FOREIGN KEY (student_id) REFERENCES Students (student_id),\n",
    "    FOREIGN KEY (subject_id) REFERENCES Subjects (subject_id)\n",
    "    )\n",
    "\"\"\")"
   ]
  },
  {
   "cell_type": "code",
   "execution_count": 17,
   "id": "2c7bcbe0-50df-43af-9d26-af1f890cfd12",
   "metadata": {},
   "outputs": [],
   "source": [
    "department_data = [\n",
    "    (\"TECH\", \"Abdul\"),\n",
    "    (\"HR\", \"Amalda\"),\n",
    "    (\"Sales\", \"Lester\")\n",
    "]"
   ]
  },
  {
   "cell_type": "code",
   "execution_count": 18,
   "id": "64932a97-a337-4d06-969d-ce10e0b2b4fc",
   "metadata": {},
   "outputs": [
    {
     "data": {
      "text/plain": [
       "<sqlite3.Cursor at 0x2221a437840>"
      ]
     },
     "execution_count": 18,
     "metadata": {},
     "output_type": "execute_result"
    }
   ],
   "source": [
    "cs.executemany(\"INSERT INTO Departments (dept_name, hod_name) VALUES (?,?)\",department_data)"
   ]
  },
  {
   "cell_type": "code",
   "execution_count": 19,
   "id": "48f4ee6a-98cc-4358-97e0-19a2941a2e6e",
   "metadata": {},
   "outputs": [
    {
     "data": {
      "text/plain": [
       "[(1, 'TECH', 'Abdul'),\n",
       " (2, 'HR', 'Amalda'),\n",
       " (3, 'Sales', 'Lester'),\n",
       " (4, 'TECH', 'Abdul'),\n",
       " (5, 'HR', 'Amalda'),\n",
       " (6, 'Sales', 'Lester')]"
      ]
     },
     "execution_count": 19,
     "metadata": {},
     "output_type": "execute_result"
    }
   ],
   "source": [
    "cs.execute(\"select * from departments\").fetchall()"
   ]
  },
  {
   "cell_type": "code",
   "execution_count": 20,
   "id": "fc73e5f5-61d5-4598-a5df-6fd0d1d3237c",
   "metadata": {},
   "outputs": [],
   "source": [
    "student_data = [\n",
    "    (\"Nikita\", \"Challengers\", 2),\n",
    "    (\"Rishabh\", \"Super Stars\", 1),\n",
    "    (\"Nitin\", \"Master Minds\", 3),\n",
    "    (\"Kirtan\", \"Challengers\", 2),\n",
    "    (\"Mehul\", \"Super Stars\", 1),\n",
    "    (\"Heer\", \"Master Minds\", 3),\n",
    "    (\"Jalpa\", \"Master Minds\", 1),\n",
    "]"
   ]
  },
  {
   "cell_type": "code",
   "execution_count": 21,
   "id": "0a884323-1b12-4db3-8292-edb9b9e2fd89",
   "metadata": {},
   "outputs": [
    {
     "data": {
      "text/plain": [
       "<sqlite3.Cursor at 0x2221a437840>"
      ]
     },
     "execution_count": 21,
     "metadata": {},
     "output_type": "execute_result"
    }
   ],
   "source": [
    "cs.executemany(\"insert into students(stud_name,stclass,dept_id) values(?,?,?)\",student_data)"
   ]
  },
  {
   "cell_type": "code",
   "execution_count": 22,
   "id": "adb595c8-4507-48b8-b38c-dac9f0092747",
   "metadata": {},
   "outputs": [
    {
     "data": {
      "text/plain": [
       "[(1, 'Nikita', 'Challengers', 2),\n",
       " (2, 'Rishabh', 'Super Stars', 1),\n",
       " (3, 'Nitin', 'Master Minds', 3),\n",
       " (4, 'Kirtan', 'Challengers', 2),\n",
       " (5, 'Mehul', 'Super Stars', 1),\n",
       " (6, 'Heer', 'Master Minds', 3),\n",
       " (7, 'Jalpa', 'Master Minds', 1)]"
      ]
     },
     "execution_count": 22,
     "metadata": {},
     "output_type": "execute_result"
    }
   ],
   "source": [
    "cs.execute(\"select * from Students\").fetchall()"
   ]
  },
  {
   "cell_type": "code",
   "execution_count": 23,
   "id": "cec5f0b3-2c2c-4342-9201-29d846c464f7",
   "metadata": {},
   "outputs": [],
   "source": [
    "subj_data = [\n",
    "    (\"DS\",1),\n",
    "    (\"Android\",1),\n",
    "    (\"Iphone\",1),\n",
    "    (\"Management\",2),\n",
    "    (\"Recruitement\",2),\n",
    "    (\"Market\",3),\n",
    "    (\"Customer\",3)\n",
    "]"
   ]
  },
  {
   "cell_type": "code",
   "execution_count": 24,
   "id": "5d4f9a0d-b9fd-45d5-a98a-199df5ff57ed",
   "metadata": {},
   "outputs": [
    {
     "data": {
      "text/plain": [
       "<sqlite3.Cursor at 0x2221a437840>"
      ]
     },
     "execution_count": 24,
     "metadata": {},
     "output_type": "execute_result"
    }
   ],
   "source": [
    "cs.executemany(\"insert into subjects (subject_name,dept_id) values(?,?)\",subj_data)"
   ]
  },
  {
   "cell_type": "code",
   "execution_count": 25,
   "id": "b10a2270-ceb5-4a6a-abe2-9c1d94929ba6",
   "metadata": {},
   "outputs": [
    {
     "data": {
      "text/plain": [
       "[(1, 'DS', 1),\n",
       " (2, 'Android', 1),\n",
       " (3, 'Iphone', 1),\n",
       " (4, 'Management', 2),\n",
       " (5, 'Recruitement', 2),\n",
       " (6, 'Market', 3),\n",
       " (7, 'Customer', 3)]"
      ]
     },
     "execution_count": 25,
     "metadata": {},
     "output_type": "execute_result"
    }
   ],
   "source": [
    "cs.execute(\"select * from subjects\").fetchall()"
   ]
  },
  {
   "cell_type": "code",
   "execution_count": 26,
   "id": "098e433a-7512-47b3-9f62-f1939d970783",
   "metadata": {},
   "outputs": [],
   "source": [
    "marks_data = [\n",
    "    (1,4,76),\n",
    "    (1,5,84),\n",
    "    (2,1,67),\n",
    "    (2,2,97),\n",
    "    (2,3,60),\n",
    "    (3,6,78),\n",
    "    (3,7,86),\n",
    "    (4,4,80),\n",
    "    (4,5,71),\n",
    "    (5,1,43),\n",
    "    (5,2,67),\n",
    "    (5,3,89),\n",
    "    (6,6,78),\n",
    "    (6,7,23),\n",
    "    (7,1,97),\n",
    "    (7,2,90),\n",
    "    (7,3,91)\n",
    "]"
   ]
  },
  {
   "cell_type": "code",
   "execution_count": 27,
   "id": "849251ef-0271-4240-ae4e-6b19da8d811e",
   "metadata": {},
   "outputs": [
    {
     "data": {
      "text/plain": [
       "<sqlite3.Cursor at 0x2221a437840>"
      ]
     },
     "execution_count": 27,
     "metadata": {},
     "output_type": "execute_result"
    }
   ],
   "source": [
    "cs.executemany(\"insert into marks (student_id,subject_id,marks) values(?,?,?)\",marks_data)"
   ]
  },
  {
   "cell_type": "code",
   "execution_count": 28,
   "id": "e5c97f50-216b-46e3-b66b-deb00b765473",
   "metadata": {},
   "outputs": [
    {
     "data": {
      "text/plain": [
       "[(1, 1, 4, 76.0),\n",
       " (2, 1, 5, 84.0),\n",
       " (3, 2, 1, 67.0),\n",
       " (4, 2, 2, 97.0),\n",
       " (5, 2, 3, 60.0),\n",
       " (6, 3, 6, 78.0),\n",
       " (7, 3, 7, 86.0),\n",
       " (8, 4, 4, 80.0),\n",
       " (9, 4, 5, 71.0),\n",
       " (10, 5, 1, 43.0),\n",
       " (11, 5, 2, 67.0),\n",
       " (12, 5, 3, 89.0),\n",
       " (13, 6, 6, 78.0),\n",
       " (14, 6, 7, 23.0),\n",
       " (15, 7, 1, 97.0),\n",
       " (16, 7, 2, 90.0),\n",
       " (17, 7, 3, 91.0)]"
      ]
     },
     "execution_count": 28,
     "metadata": {},
     "output_type": "execute_result"
    }
   ],
   "source": [
    "cs.execute(\"select * from marks\").fetchall()"
   ]
  },
  {
   "cell_type": "markdown",
   "id": "20c62d02-a138-407c-8e73-bab364cfef14",
   "metadata": {},
   "source": [
    "# Functions"
   ]
  },
  {
   "cell_type": "code",
   "execution_count": 29,
   "id": "0f2f58b9-8c72-47d1-ac16-54f9dc0b93b4",
   "metadata": {},
   "outputs": [],
   "source": [
    "def add_student(conn, stud_name, stclass, dept_id):\n",
    "    conn.execute(\"INSERT INTO Students (stud_name, stclass, dept_id) VALUES (?, ?, ?)\", (stud_name, stclass, dept_id))\n",
    "    conn.commit()\n",
    "\n",
    "def add_subject(conn, subject_name,dept_id):\n",
    "    conn.execute(\"insert into subjects (subject_name,dept_id) values(?,?)\",(subject_name,dept_id))\n",
    "    conn.commit()\n",
    "    \n",
    "def add_marks(conn,student_id,subject_id,marks):\n",
    "    conn.execute(\"insert into marks (student_id,subject_id,marks) values(?,?,?)\",(student_id,subject_id,marks))\n",
    "    conn.commit()"
   ]
  },
  {
   "cell_type": "markdown",
   "id": "eba93fa7-f2cc-47e8-8b1b-fe51c2b2877a",
   "metadata": {},
   "source": [
    "# Function - Display students with department name (JOIN)"
   ]
  },
  {
   "cell_type": "code",
   "execution_count": 30,
   "id": "00434262-55bd-4b7f-815a-d6df23e7e8ae",
   "metadata": {},
   "outputs": [],
   "source": [
    "def show_students(conn):\n",
    "    return cs.execute(\"\"\"\n",
    "        select s.student_id,s.stud_name,s.stclass,s.dept_id,d.dept_name\n",
    "        from Students s\n",
    "        left join departments d on s.dept_id = d.dept_id\n",
    "    \"\"\").fetchall()"
   ]
  },
  {
   "cell_type": "code",
   "execution_count": 31,
   "id": "46287cbf-8ec7-450b-a19c-46c1be5bf8d5",
   "metadata": {},
   "outputs": [
    {
     "data": {
      "text/plain": [
       "[(1, 'Nikita', 'Challengers', 2, 'HR'),\n",
       " (2, 'Rishabh', 'Super Stars', 1, 'TECH'),\n",
       " (3, 'Nitin', 'Master Minds', 3, 'Sales'),\n",
       " (4, 'Kirtan', 'Challengers', 2, 'HR'),\n",
       " (5, 'Mehul', 'Super Stars', 1, 'TECH'),\n",
       " (6, 'Heer', 'Master Minds', 3, 'Sales'),\n",
       " (7, 'Jalpa', 'Master Minds', 1, 'TECH')]"
      ]
     },
     "execution_count": 31,
     "metadata": {},
     "output_type": "execute_result"
    }
   ],
   "source": [
    "show_students(conn)"
   ]
  },
  {
   "cell_type": "markdown",
   "id": "a1d92972-a845-4023-a487-0e8ecb5f4bb2",
   "metadata": {},
   "source": [
    "# Display all subjects with their department"
   ]
  },
  {
   "cell_type": "code",
   "execution_count": 32,
   "id": "a1defa47-e0ca-4c91-bf37-fac0e9f67d31",
   "metadata": {},
   "outputs": [],
   "source": [
    "def show_subjects(conn):\n",
    "    return cs.execute(\"\"\"\n",
    "        select s.subject_name, d.dept_name\n",
    "        from subjects s\n",
    "        left join departments d on s.dept_id = d.dept_id\n",
    "    \"\"\").fetchall()"
   ]
  },
  {
   "cell_type": "code",
   "execution_count": 33,
   "id": "351466ec-0f3a-435a-8e23-b7ede7cdb543",
   "metadata": {},
   "outputs": [
    {
     "data": {
      "text/plain": [
       "[('DS', 'TECH'),\n",
       " ('Android', 'TECH'),\n",
       " ('Iphone', 'TECH'),\n",
       " ('Management', 'HR'),\n",
       " ('Recruitement', 'HR'),\n",
       " ('Market', 'Sales'),\n",
       " ('Customer', 'Sales')]"
      ]
     },
     "execution_count": 33,
     "metadata": {},
     "output_type": "execute_result"
    }
   ],
   "source": [
    "show_subjects(conn)"
   ]
  },
  {
   "cell_type": "markdown",
   "id": "5c84f574-a564-4213-b87a-3e902d992112",
   "metadata": {},
   "source": [
    "# Display each student’s marks with subject names (JOIN) - 3 Tables Join"
   ]
  },
  {
   "cell_type": "code",
   "execution_count": 34,
   "id": "241dc5b6-f59b-4efd-9538-9ff90a41d65b",
   "metadata": {},
   "outputs": [],
   "source": [
    "def show_marks(conn):\n",
    "    return cs.execute(\"\"\"\n",
    "        select st.stud_name, su.subject_name, m.marks\n",
    "        from marks m\n",
    "        left join students st on m.student_id = st.student_id\n",
    "        left join subjects su on m.subject_id = su.subject_id\n",
    "    \"\"\").fetchall()"
   ]
  },
  {
   "cell_type": "code",
   "execution_count": 35,
   "id": "845bbe16-d432-4fe7-8b3a-d2b9c62ad1a0",
   "metadata": {},
   "outputs": [
    {
     "data": {
      "text/plain": [
       "[('Nikita', 'Management', 76.0),\n",
       " ('Nikita', 'Recruitement', 84.0),\n",
       " ('Rishabh', 'DS', 67.0),\n",
       " ('Rishabh', 'Android', 97.0),\n",
       " ('Rishabh', 'Iphone', 60.0),\n",
       " ('Nitin', 'Market', 78.0),\n",
       " ('Nitin', 'Customer', 86.0),\n",
       " ('Kirtan', 'Management', 80.0),\n",
       " ('Kirtan', 'Recruitement', 71.0),\n",
       " ('Mehul', 'DS', 43.0),\n",
       " ('Mehul', 'Android', 67.0),\n",
       " ('Mehul', 'Iphone', 89.0),\n",
       " ('Heer', 'Market', 78.0),\n",
       " ('Heer', 'Customer', 23.0),\n",
       " ('Jalpa', 'DS', 97.0),\n",
       " ('Jalpa', 'Android', 90.0),\n",
       " ('Jalpa', 'Iphone', 91.0)]"
      ]
     },
     "execution_count": 35,
     "metadata": {},
     "output_type": "execute_result"
    }
   ],
   "source": [
    "show_marks(conn)"
   ]
  },
  {
   "cell_type": "markdown",
   "id": "cb5cc7be-51e8-4e01-8160-552a45789b11",
   "metadata": {},
   "source": [
    "# Show subject-wise marks, total, average, grade, pass/fail"
   ]
  },
  {
   "cell_type": "code",
   "execution_count": 47,
   "id": "86f4f2f8-2d95-4d2a-9721-45c7c7305106",
   "metadata": {},
   "outputs": [],
   "source": [
    "def calculate_grade(avg):\n",
    "    if avg >= 85:\n",
    "        return 'A'\n",
    "    elif avg >= 70:\n",
    "        return 'B'\n",
    "    elif avg >= 50:\n",
    "        return 'C'\n",
    "    else:\n",
    "        return 'F'\n",
    "\n",
    "def student_report(student_id):\n",
    "    cs.execute(\"\"\"\n",
    "        select stud_name from students where student_id = ?\n",
    "    \"\"\",(student_id,))\n",
    "    student = cs.fetchone()\n",
    "    print(f\"You selected: {student[0]}\")\n",
    "\n",
    "    cs.execute(\"\"\"\n",
    "        select su.subject_name, m.marks\n",
    "        from marks m\n",
    "        inner join Subjects su ON m.subject_id = su.subject_id\n",
    "        where m.student_id = ?\n",
    "    \"\"\", (student_id,))\n",
    "    \n",
    "    records = cs.fetchall()\n",
    "    print(f\"Subjects with Marks: {records}\")\n",
    "    \n",
    "    marks_total = 0\n",
    "    sub_count = 0\n",
    "    check_pass = True\n",
    "\n",
    "    for subject_name,marks in records:\n",
    "        marks_total += marks\n",
    "        sub_count += 1\n",
    "        if marks<50:\n",
    "            check_pass = fail\n",
    "\n",
    "    avg = marks_total / sub_count if sub_count > 0 else 0\n",
    "    grade = calculate_grade(avg)\n",
    "    status = \"Pass\" if check_pass else \"Fail\"\n",
    "    print(f\"Total Marks of {student[0]}: {marks_total}\")\n",
    "    print(f\"Average Marks of {student[0]}: {avg}\")\n",
    "    print(f\"Grade of {student[0]}: {grade}\")\n",
    "    print(f\"Status: {status}\")\n",
    "    return"
   ]
  },
  {
   "cell_type": "code",
   "execution_count": 48,
   "id": "f5f66e9a-aa98-4c4b-be11-e438e9aca5be",
   "metadata": {},
   "outputs": [
    {
     "name": "stdout",
     "output_type": "stream",
     "text": [
      "You selected: Nikita\n",
      "Subjects with Marks: [('Management', 76.0), ('Recruitement', 84.0)]\n",
      "Total Marks of Nikita: 160.0\n",
      "Average Marks of Nikita: 80.0\n",
      "Grade of Nikita: B\n",
      "Status: Pass\n"
     ]
    }
   ],
   "source": [
    "student_report(1)"
   ]
  },
  {
   "cell_type": "markdown",
   "id": "b6ef101e-1b3b-4dcf-9f14-7e8724ba3716",
   "metadata": {},
   "source": [
    "# Show topper in each subject"
   ]
  },
  {
   "cell_type": "code",
   "execution_count": 38,
   "id": "9ade0d38-74e3-4122-b44e-5637ffbf4f2d",
   "metadata": {},
   "outputs": [],
   "source": [
    "def toppers(conn):\n",
    "    return cs.execute(\"\"\"\n",
    "        select su.subject_name, st.stud_name, max(m.marks)\n",
    "        from marks m\n",
    "        inner join students st on m.student_id = st.student_id\n",
    "        inner join subjects su on m.subject_id = su.subject_id\n",
    "        group by su.subject_name\n",
    "    \"\"\")\n",
    "    topper_list = cs.fetchall()\n",
    "    print(topper_list)"
   ]
  },
  {
   "cell_type": "code",
   "execution_count": 39,
   "id": "a7ab8867-5a26-46f9-b6ef-6ef06e5beba0",
   "metadata": {},
   "outputs": [
    {
     "data": {
      "text/plain": [
       "<sqlite3.Cursor at 0x2221a437840>"
      ]
     },
     "execution_count": 39,
     "metadata": {},
     "output_type": "execute_result"
    }
   ],
   "source": [
    "toppers(conn)"
   ]
  },
  {
   "cell_type": "markdown",
   "id": "af207598-12a2-461d-971b-55ec2e9a0351",
   "metadata": {},
   "source": [
    " # overall topper"
   ]
  },
  {
   "cell_type": "code",
   "execution_count": 40,
   "id": "bc524be2-bbbd-44f0-ad33-1e54ca905bb1",
   "metadata": {},
   "outputs": [],
   "source": [
    "def Overall(conn):\n",
    "    return cs.execute(\"\"\"\n",
    "        select st.stud_name, sum(m.marks) as total\n",
    "        from marks m\n",
    "        inner join students st on m.student_id = st.student_id\n",
    "        group by st.stud_name\n",
    "        order by total desc limit 1\n",
    "    \"\"\").fetchone()"
   ]
  },
  {
   "cell_type": "code",
   "execution_count": 41,
   "id": "2f80fabf-e56b-444a-b4d7-ba4b98be0055",
   "metadata": {},
   "outputs": [
    {
     "data": {
      "text/plain": [
       "('Jalpa', 278.0)"
      ]
     },
     "execution_count": 41,
     "metadata": {},
     "output_type": "execute_result"
    }
   ],
   "source": [
    "Overall(conn)"
   ]
  },
  {
   "cell_type": "markdown",
   "id": "a329b3c1-7189-49d7-9656-626d21c85911",
   "metadata": {},
   "source": [
    "# Show average marks department-wise (JOIN + GROUP BY)"
   ]
  },
  {
   "cell_type": "code",
   "execution_count": 42,
   "id": "31067fb8-5a5e-44fe-a3b7-beb69256e3f9",
   "metadata": {},
   "outputs": [],
   "source": [
    "def department_summary(conn):\n",
    "    return cs.execute(\"\"\"\n",
    "        select d.dept_name, round(avg(m.marks),2)\n",
    "        from marks m\n",
    "        inner join students s on m.student_id = s.student_id\n",
    "        inner join departments d on s.dept_id = d.dept_id\n",
    "        group by d.dept_name\n",
    "    \"\"\").fetchall()"
   ]
  },
  {
   "cell_type": "code",
   "execution_count": 43,
   "id": "b4726b96-ab76-496c-8e91-7c55d34b9ee3",
   "metadata": {},
   "outputs": [
    {
     "data": {
      "text/plain": [
       "[('HR', 77.75), ('Sales', 66.25), ('TECH', 77.89)]"
      ]
     },
     "execution_count": 43,
     "metadata": {},
     "output_type": "execute_result"
    }
   ],
   "source": [
    "department_summary(conn)"
   ]
  },
  {
   "cell_type": "markdown",
   "id": "d687700a-5a23-4b19-975c-bd972a15e4d7",
   "metadata": {},
   "source": [
    "# Return unique subjects as a set"
   ]
  },
  {
   "cell_type": "code",
   "execution_count": 44,
   "id": "4d76bf82-fb30-424b-81a4-3906edde85e9",
   "metadata": {},
   "outputs": [],
   "source": [
    "def unique_subjects(conn):\n",
    "    cs.execute(\"\"\"\n",
    "        select distinct subject_name\n",
    "        from subjects\n",
    "    \"\"\")\n",
    "    subjects = {i[0] for i in cs.fetchall()}\n",
    "    return subjects"
   ]
  },
  {
   "cell_type": "code",
   "execution_count": 45,
   "id": "792b5559-2c9f-4cb2-97c4-6bb61d9e62a2",
   "metadata": {
    "scrolled": true
   },
   "outputs": [
    {
     "data": {
      "text/plain": [
       "{'Android', 'Customer', 'DS', 'Iphone', 'Management', 'Market', 'Recruitement'}"
      ]
     },
     "execution_count": 45,
     "metadata": {},
     "output_type": "execute_result"
    }
   ],
   "source": [
    "unique_subjects(conn)"
   ]
  },
  {
   "cell_type": "code",
   "execution_count": null,
   "id": "c02a4341-cc50-4f95-81f5-36bf6312fdb9",
   "metadata": {},
   "outputs": [],
   "source": []
  }
 ],
 "metadata": {
  "kernelspec": {
   "display_name": "Python 3 (ipykernel)",
   "language": "python",
   "name": "python3"
  },
  "language_info": {
   "codemirror_mode": {
    "name": "ipython",
    "version": 3
   },
   "file_extension": ".py",
   "mimetype": "text/x-python",
   "name": "python",
   "nbconvert_exporter": "python",
   "pygments_lexer": "ipython3",
   "version": "3.13.7"
  }
 },
 "nbformat": 4,
 "nbformat_minor": 5
}
